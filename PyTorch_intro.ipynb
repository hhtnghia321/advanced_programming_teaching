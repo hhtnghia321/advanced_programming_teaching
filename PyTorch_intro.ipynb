{
 "cells": [
  {
   "cell_type": "code",
   "execution_count": 71,
   "metadata": {
    "ExecuteTime": {
     "end_time": "2020-06-12T02:05:33.574693Z",
     "start_time": "2020-06-12T02:05:33.505465Z"
    }
   },
   "outputs": [],
   "source": [
    "import os\n",
    "os.chdir('../advanced_programming_teaching')\n",
    "import pandas as pd\n",
    "from utils.helper_functions import missing_values_table, process_datetime, save_pickle, load_pickle\n",
    "pd.set_option('display.max_columns', 900, 'display.max_rows', 900)\n",
    "import warnings\n",
    "warnings.filterwarnings('ignore')\n",
    "\n",
    "data = pd.read_csv('data/kc_house_data.csv')"
   ]
  },
  {
   "cell_type": "markdown",
   "metadata": {},
   "source": [
    "# Train test split"
   ]
  },
  {
   "cell_type": "code",
   "execution_count": 63,
   "metadata": {
    "ExecuteTime": {
     "end_time": "2020-06-12T02:04:58.057622Z",
     "start_time": "2020-06-12T02:04:58.045630Z"
    }
   },
   "outputs": [],
   "source": [
    "from sklearn.model_selection import train_test_split\n",
    "\n",
    "train, test = train_test_split(data, test_size=0.3, random_state=0)"
   ]
  },
  {
   "cell_type": "markdown",
   "metadata": {},
   "source": [
    "# Very basic preprocessing steps"
   ]
  },
  {
   "cell_type": "code",
   "execution_count": 64,
   "metadata": {
    "ExecuteTime": {
     "end_time": "2020-06-12T02:04:58.089512Z",
     "start_time": "2020-06-12T02:04:58.072561Z"
    }
   },
   "outputs": [
    {
     "name": "stdout",
     "output_type": "stream",
     "text": [
      "Selected dataframe has 21 columns.\n",
      "There are 0 columns that have missing values.\n"
     ]
    },
    {
     "data": {
      "text/html": [
       "<div>\n",
       "<style scoped>\n",
       "    .dataframe tbody tr th:only-of-type {\n",
       "        vertical-align: middle;\n",
       "    }\n",
       "\n",
       "    .dataframe tbody tr th {\n",
       "        vertical-align: top;\n",
       "    }\n",
       "\n",
       "    .dataframe thead th {\n",
       "        text-align: right;\n",
       "    }\n",
       "</style>\n",
       "<table border=\"1\" class=\"dataframe\">\n",
       "  <thead>\n",
       "    <tr style=\"text-align: right;\">\n",
       "      <th></th>\n",
       "      <th>Missing Values</th>\n",
       "      <th>% of Total Values</th>\n",
       "    </tr>\n",
       "  </thead>\n",
       "  <tbody>\n",
       "  </tbody>\n",
       "</table>\n",
       "</div>"
      ],
      "text/plain": [
       "Empty DataFrame\n",
       "Columns: [Missing Values, % of Total Values]\n",
       "Index: []"
      ]
     },
     "execution_count": 64,
     "metadata": {},
     "output_type": "execute_result"
    }
   ],
   "source": [
    "missing_values_table(train)"
   ]
  },
  {
   "cell_type": "code",
   "execution_count": 65,
   "metadata": {
    "ExecuteTime": {
     "end_time": "2020-06-12T02:04:58.095495Z",
     "start_time": "2020-06-12T02:04:58.091506Z"
    }
   },
   "outputs": [],
   "source": [
    "def preprocess_df(df):\n",
    "    # Convert to datetime df type\n",
    "    df['date'] = pd.to_datetime(df['date'])\n",
    "\n",
    "    # Preprocess to feature engineering some datetime features\n",
    "    df = process_datetime(df, 'date')\n",
    "    return df"
   ]
  },
  {
   "cell_type": "code",
   "execution_count": 66,
   "metadata": {
    "ExecuteTime": {
     "end_time": "2020-06-12T02:04:58.193234Z",
     "start_time": "2020-06-12T02:04:58.098488Z"
    },
    "scrolled": true
   },
   "outputs": [],
   "source": [
    "train_preprocessed = preprocess_df(train)\n",
    "\n",
    "# Drop unused columns, separate categorical and numerical\n",
    "# The reason is in the later part\n",
    "train.drop(columns=['id', 'date', 'zipcode'], inplace=True)\n",
    "categorical_feat = ['waterfront', 'view', 'condition']\n",
    "numerical_feat = list(train.drop(categorical_feat, axis=1).columns)"
   ]
  },
  {
   "cell_type": "markdown",
   "metadata": {
    "ExecuteTime": {
     "end_time": "2020-06-12T01:36:00.421417Z",
     "start_time": "2020-06-12T01:36:00.391499Z"
    }
   },
   "source": [
    "# Mapper"
   ]
  },
  {
   "cell_type": "code",
   "execution_count": 69,
   "metadata": {
    "ExecuteTime": {
     "end_time": "2020-06-12T02:05:05.868658Z",
     "start_time": "2020-06-12T02:05:05.682237Z"
    }
   },
   "outputs": [],
   "source": [
    "from sklearn_pandas import DataFrameMapper\n",
    "from sklearn.preprocessing import OneHotEncoder, StandardScaler\n",
    "\n",
    "mapper=DataFrameMapper([\n",
    "    # Numerical Features\n",
    "    (['bedrooms'], StandardScaler()),\n",
    "    (['bathrooms'], StandardScaler()),\n",
    "    (['sqft_living'], StandardScaler()),\n",
    "    (['sqft_lot'], StandardScaler()),\n",
    "    (['grade'], StandardScaler()),\n",
    "    (['sqft_above'], StandardScaler()),\n",
    "    (['sqft_basement'], StandardScaler()),\n",
    "    (['yr_built'], StandardScaler()),\n",
    "    (['yr_renovated'], StandardScaler()),\n",
    "    (['lat'], StandardScaler()),\n",
    "    (['long'], StandardScaler()),\n",
    "    (['sqft_living15'], StandardScaler()),\n",
    "    (['sqft_lot15'], StandardScaler()),\n",
    "    (['sqft_living15'], StandardScaler()),\n",
    "    (['sqft_living15'], StandardScaler()),\n",
    "    (['sqft_living15'], StandardScaler()),\n",
    "    (['sqft_living15'], StandardScaler()),\n",
    "    \n",
    "    # Categorical Features\n",
    "    (['waterfront'], OneHotEncoder()),\n",
    "    (['view'], OneHotEncoder()),\n",
    "    (['condition'], OneHotEncoder()),\n",
    "    (['date_month'], OneHotEncoder()),\n",
    "    (['date_dow'], OneHotEncoder()),\n",
    "    (['date_quarter'], OneHotEncoder()),\n",
    "    (['date_isweeknd'], OneHotEncoder()),\n",
    "    (['date_month_interval'], OneHotEncoder()),\n",
    "], df_out=True)\n",
    "\n",
    "train_tranformed = mapper.fit_transform(train_preprocessed)\n",
    "# save_pickle('model/mapper.pkl', mapper)"
   ]
  },
  {
   "cell_type": "markdown",
   "metadata": {
    "ExecuteTime": {
     "end_time": "2020-06-12T02:06:05.375350Z",
     "start_time": "2020-06-12T02:06:05.363384Z"
    }
   },
   "source": [
    "# Neural Network 1"
   ]
  },
  {
   "cell_type": "code",
   "execution_count": 78,
   "metadata": {
    "ExecuteTime": {
     "end_time": "2020-06-12T02:19:05.722268Z",
     "start_time": "2020-06-12T02:19:05.708265Z"
    }
   },
   "outputs": [],
   "source": [
    "import torch\n",
    "import torch.nn as nn\n",
    "from torch.autograd import Variable\n",
    "import torch.nn.functional as F\n",
    "import torch.utils.data as Data\n",
    "\n",
    "# Weight initial\n",
    "def customize_weight_init(x):\n",
    "    classname = x.__class__.__name__\n",
    "    if classname.find('Linear') != -1:\n",
    "        nn.init.xavier_normal_(x.weight)\n",
    "        nn.init.constant_(x.bias, 0)\n",
    "        \n",
    "    if classname.find('BatchNorm') != -1:\n",
    "        nn.init.constant_(x.weight, 1)\n",
    "        nn.init.constant_(x.bias, 0)\n",
    "\n",
    "# Define model\n",
    "class NNet_model_1(nn.Module):\n",
    "    def __init__(self, \n",
    "                 input_dim, \n",
    "                 hidden_1, \n",
    "                 hidden_2, \n",
    "                 hidden_3,\n",
    "                 output=1):\n",
    "        '''\n",
    "        A class that defines the neural network structure\n",
    "        \n",
    "        Params:\n",
    "        input_dim: number of features from the dataset\n",
    "        hidden_1 : num of neurons in layer 1\n",
    "        hidden_2: num of neurons in layer 2\n",
    "        hidden_3: num of neurons in layer 3\n",
    "        \n",
    "        output: \n",
    "        an object that holds the model structure (can be called as a function)\n",
    "        '''\n",
    "        super().__init__()\n",
    "        self.input_dim = input_dim\n",
    "        self.network = nn.Sequential(\n",
    "            # input layer\n",
    "            nn.Linear(input_dim, hidden_1),\n",
    "            nn.ReLU(),\n",
    "            nn.BatchNorm1d(hidden_1),\n",
    "            nn.Dropout(0.5),\n",
    "            \n",
    "            # hidden layer 1\n",
    "            nn.Linear(hidden_1, hidden_2),\n",
    "            nn.ReLU(),\n",
    "            nn.BatchNorm1d(hidden_2),\n",
    "            nn.Dropout(0.3),\n",
    "            \n",
    "            # hidden layer 2\n",
    "            nn.Linear(hidden_2, hidden_3),\n",
    "            nn.ReLU(),\n",
    "            nn.BatchNorm1d(hidden_3),\n",
    "            nn.Dropout(0.2),\n",
    "            \n",
    "            # output layer\n",
    "            nn.Linear(hidden_3, output),\n",
    "        )\n",
    "\n",
    "    def forward(self, input):\n",
    "        return self.network(input)"
   ]
  },
  {
   "cell_type": "code",
   "execution_count": 76,
   "metadata": {
    "ExecuteTime": {
     "end_time": "2020-06-12T02:14:23.611260Z",
     "start_time": "2020-06-12T02:14:23.574393Z"
    },
    "code_folding": []
   },
   "outputs": [],
   "source": [
    "def train_loop(train, test, seed, learning_rate, \n",
    "               weight_decay, epoches=3, save_folder='temp_model', verbose=True):\n",
    "\n",
    "    torch.cuda.current_device()\n",
    "    device = torch.device(\"cuda\") if torch.cuda.is_available() else torch.device(\"cpu\")\n",
    "    if verbose: print('Training on: ', device)\n",
    "    torch.manual_seed(seed)\n",
    "\n",
    "    model = NNModel(hidde).to(device)\n",
    "\n",
    "    model.apply(customize_weight_init)\n",
    "    class_weights = torch.FloatTensor([class_weight_0, class_weight_1]).to(device)\n",
    "    opt = torch.optim.Adam(model.parameters(),lr = learning_rate, weight_decay=weight_decay)\n",
    "    loss_fn = nn.MSELoss(reduction='mean')\n",
    "    \n",
    "    # Some setup\n",
    "    start_time = time.time()\n",
    "    num_batch = len(train_dl)\n",
    "    cats_tensor = torch.LongTensor(val_dl.dataset.cats).to(device)\n",
    "    conts_tensor = torch.FloatTensor(val_dl.dataset.conts).to(device)\n",
    "    y_true = val_dl.dataset.y\n",
    "    \n",
    "    for epoch in range(epoches):      \n",
    "        total_loss_train = 0 \n",
    "        train_loss = 0\n",
    "        model.train()\n",
    "        for cat, cont, y in iter(train_dl):\n",
    "            cat = cat.to(device)\n",
    "            cont = cont.to(device)\n",
    "            y = y.to(device)\n",
    "            opt.zero_grad()\n",
    "            prob = model(cat, cont).to(device)\n",
    "            loss = loss_fn(prob, y)\n",
    "            loss.backward()\n",
    "            opt.step()\n",
    "            total_loss_train += loss.item()\n",
    "        train_loss = total_loss_train/num_batch\n",
    "        \n",
    "        model.eval()\n",
    "        val_prob = model(cats_tensor, conts_tensor).to(device)\n",
    "        _ , predicted_class = torch.max(val_prob.data, dim = 1)\n",
    "        f1 = f1_score(y_true, to_numpy(predicted_class))\n",
    "        f1_scores.append(f1)\n",
    "        if verbose:\n",
    "            cur_lr = opt.param_groups[0]['lr']\n",
    "            print(f'Epoch {epoch+1}: train_loss: {train_loss:.4f} val_f1: {f1:.4f} current_lr: {cur_lr: .5f}')\n",
    "\n",
    "        if f1_scores[-1] == max(f1_scores):\n",
    "            if verbose: print(\"Find better model!\")\n",
    "            best_model= copy.deepcopy(model)\n",
    "            best_scheduler = copy.deepcopy(scheduler)\n",
    "            best_epoch= epoch + 1\n",
    "            best_accuracy = round(max(f1_scores),2)\n",
    "            best_optimizer=copy.deepcopy(opt)\n",
    "            checkpoint = {\n",
    "                'model': NNModel(emb_szs=emb_szs, n_cont=n_cont, emb_drop=emb_drop, out_sz= out_sz, szs=szs, drops=drops),\n",
    "                'epoch': epoch + 1,\n",
    "                'state_dict': best_model.state_dict(),\n",
    "                'scheduler': best_scheduler.state_dict(),\n",
    "                'optimizer': best_optimizer.state_dict(),\n",
    "                'best_accuracy': best_accuracy}\n",
    "            path_checkpoint = save_folder + '/embedding_classifier_crossentropy_checkpoint_' + today + '.pth'\n",
    "            torch.save(checkpoint, path_checkpoint)\n",
    "\n",
    "    if verbose:\n",
    "        print(f\"Finished training in {time.time() - start_time:.4f} seconds\")\n",
    "        print('Need {} epoches to reach the best model'.format(best_epoch))\n",
    "        print(f'Model save to {path_checkpoint}')\n",
    "    return best_accuracy"
   ]
  },
  {
   "cell_type": "markdown",
   "metadata": {},
   "source": [
    "# Neural Network 3"
   ]
  },
  {
   "cell_type": "code",
   "execution_count": null,
   "metadata": {
    "code_folding": [
     10,
     17
    ]
   },
   "outputs": [],
   "source": [
    "def setup_dataloader(X, y, batch_size=256, shuffle=False, num_workers=4):\n",
    "    catf, _ = split_features(X)\n",
    "    X_dataset = RegressionColumnarDataset(X, catf, y)\n",
    "    params = {\n",
    "        'batch_size': batch_size,\n",
    "        'shuffle': shuffle,\n",
    "        'num_workers': num_workers}\n",
    "    X_dataloader = data.DataLoader(X_dataset, **params)\n",
    "    return X_dataloader\n",
    "\n",
    "def setup_nn_params(df):\n",
    "    catf, _ = split_features(df)\n",
    "    cat_sz = [(c, int(df[c].max()+1)) for c in catf]\n",
    "    emb_szs = [(c, min(50, (c+1)//2)) for _,c in cat_sz]\n",
    "    n_cont = len(df.columns)-len(catf)\n",
    "    return {'emb_szs': emb_szs, 'n_cont': n_cont}\n",
    "\n",
    "def train_loop(train_dl, val_dl, seed, emb_szs, n_cont, emb_drop, out_sz, szs, drops,\n",
    "               learning_rate, step_size, gamma, weight_decay, class_weight_0 = 2.047, class_weight_1 = 8.867,\n",
    "               epoches=3, save_folder='temp_model', verbose=True):\n",
    "\n",
    "    torch.cuda.current_device()\n",
    "    device = torch.device(\"cuda\") if torch.cuda.is_available() else torch.device(\"cpu\")\n",
    "    if verbose: print('Training on: ', device)\n",
    "    torch.manual_seed(seed)\n",
    "\n",
    "    model = NNModel(emb_szs=emb_szs, \n",
    "            n_cont=n_cont, \n",
    "            emb_drop=emb_drop, \n",
    "            out_sz= out_sz, \n",
    "            szs=szs, \n",
    "            drops=drops).to(device)\n",
    "\n",
    "    model.apply(customize_weight_init)\n",
    "    class_weights = torch.FloatTensor([class_weight_0, class_weight_1]).to(device)\n",
    "    opt = torch.optim.Adam(model.parameters(),lr = learning_rate, weight_decay=weight_decay)\n",
    "    loss_fn = nn.CrossEntropyLoss(weight = class_weights, reduction='sum')\n",
    "    scheduler=torch.optim.lr_scheduler.StepLR(opt, step_size=int(step_size), gamma= gamma, last_epoch=-1)\n",
    "    \n",
    "    # Some setup\n",
    "    accuracy = []\n",
    "    f1_scores = []\n",
    "    best_epoch = 0\n",
    "    start_time = time.time()\n",
    "    num_batch = len(train_dl)\n",
    "    cats_tensor = torch.LongTensor(val_dl.dataset.cats).to(device)\n",
    "    conts_tensor = torch.FloatTensor(val_dl.dataset.conts).to(device)\n",
    "    y_true = val_dl.dataset.y\n",
    "    \n",
    "    for epoch in range(epoches):      \n",
    "        total_loss_train = 0 \n",
    "        train_loss = 0\n",
    "        model.train()\n",
    "        scheduler.step()\n",
    "        for cat, cont, y in iter(train_dl):\n",
    "            cat = cat.to(device)\n",
    "            cont = cont.to(device)\n",
    "            y = y.to(device)\n",
    "            opt.zero_grad()\n",
    "            prob = model(cat, cont).to(device)\n",
    "            loss = loss_fn(prob, y)\n",
    "            loss.backward()\n",
    "            opt.step()\n",
    "            total_loss_train += loss.item()\n",
    "        train_loss = total_loss_train/num_batch\n",
    "        \n",
    "        model.eval()\n",
    "        val_prob = model(cats_tensor, conts_tensor).to(device)\n",
    "        _ , predicted_class = torch.max(val_prob.data, dim = 1)\n",
    "        f1 = f1_score(y_true, to_numpy(predicted_class))\n",
    "        f1_scores.append(f1)\n",
    "        if verbose:\n",
    "            cur_lr = opt.param_groups[0]['lr']\n",
    "            print(f'Epoch {epoch+1}: train_loss: {train_loss:.4f} val_f1: {f1:.4f} current_lr: {cur_lr: .5f}')\n",
    "\n",
    "        if f1_scores[-1] == max(f1_scores):\n",
    "            if verbose: print(\"Find better model!\")\n",
    "            best_model= copy.deepcopy(model)\n",
    "            best_scheduler = copy.deepcopy(scheduler)\n",
    "            best_epoch= epoch + 1\n",
    "            best_accuracy = round(max(f1_scores),2)\n",
    "            best_optimizer=copy.deepcopy(opt)\n",
    "            checkpoint = {\n",
    "                'model': NNModel(emb_szs=emb_szs, n_cont=n_cont, emb_drop=emb_drop, out_sz= out_sz, szs=szs, drops=drops),\n",
    "                'epoch': epoch + 1,\n",
    "                'state_dict': best_model.state_dict(),\n",
    "                'scheduler': best_scheduler.state_dict(),\n",
    "                'optimizer': best_optimizer.state_dict(),\n",
    "                'best_accuracy': best_accuracy}\n",
    "            path_checkpoint = save_folder + '/embedding_classifier_crossentropy_checkpoint_' + today + '.pth'\n",
    "            torch.save(checkpoint, path_checkpoint)\n",
    "\n",
    "    if verbose:\n",
    "        print(f\"Finished training in {time.time() - start_time:.4f} seconds\")\n",
    "        print('Need {} epoches to reach the best model'.format(best_epoch))\n",
    "        print(f'Model save to {path_checkpoint}')\n",
    "    return best_accuracy"
   ]
  }
 ],
 "metadata": {
  "kernelspec": {
   "display_name": "man_env",
   "language": "python",
   "name": "man_env"
  },
  "language_info": {
   "codemirror_mode": {
    "name": "ipython",
    "version": 3
   },
   "file_extension": ".py",
   "mimetype": "text/x-python",
   "name": "python",
   "nbconvert_exporter": "python",
   "pygments_lexer": "ipython3",
   "version": "3.7.6"
  },
  "latex_envs": {
   "LaTeX_envs_menu_present": true,
   "autoclose": false,
   "autocomplete": true,
   "bibliofile": "biblio.bib",
   "cite_by": "apalike",
   "current_citInitial": 1,
   "eqLabelWithNumbers": true,
   "eqNumInitial": 1,
   "hotkeys": {
    "equation": "Ctrl-E",
    "itemize": "Ctrl-I"
   },
   "labels_anchors": false,
   "latex_user_defs": false,
   "report_style_numbering": false,
   "user_envs_cfg": false
  },
  "toc": {
   "base_numbering": 1,
   "nav_menu": {},
   "number_sections": true,
   "sideBar": true,
   "skip_h1_title": false,
   "title_cell": "Table of Contents",
   "title_sidebar": "Contents",
   "toc_cell": false,
   "toc_position": {},
   "toc_section_display": true,
   "toc_window_display": false
  },
  "varInspector": {
   "cols": {
    "lenName": 16,
    "lenType": 16,
    "lenVar": 40
   },
   "kernels_config": {
    "python": {
     "delete_cmd_postfix": "",
     "delete_cmd_prefix": "del ",
     "library": "var_list.py",
     "varRefreshCmd": "print(var_dic_list())"
    },
    "r": {
     "delete_cmd_postfix": ") ",
     "delete_cmd_prefix": "rm(",
     "library": "var_list.r",
     "varRefreshCmd": "cat(var_dic_list()) "
    }
   },
   "types_to_exclude": [
    "module",
    "function",
    "builtin_function_or_method",
    "instance",
    "_Feature"
   ],
   "window_display": false
  }
 },
 "nbformat": 4,
 "nbformat_minor": 4
}
